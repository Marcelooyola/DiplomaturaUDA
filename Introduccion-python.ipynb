{
  "nbformat": 4,
  "nbformat_minor": 0,
  "metadata": {
    "colab": {
      "provenance": [],
      "authorship_tag": "ABX9TyOONBPOHlZ4Uc6EcN5tUmuW",
      "include_colab_link": true
    },
    "kernelspec": {
      "name": "python3",
      "display_name": "Python 3"
    },
    "language_info": {
      "name": "python"
    }
  },
  "cells": [
    {
      "cell_type": "markdown",
      "metadata": {
        "id": "view-in-github",
        "colab_type": "text"
      },
      "source": [
        "<a href=\"https://colab.research.google.com/github/Marcelooyola/DiplomaturaUDA/blob/main/Introduccion-python.ipynb\" target=\"_parent\"><img src=\"https://colab.research.google.com/assets/colab-badge.svg\" alt=\"Open In Colab\"/></a>"
      ]
    },
    {
      "cell_type": "markdown",
      "source": [
        "#**Clases de Phyton**"
      ],
      "metadata": {
        "id": "HCRNJB_Hd9hi"
      }
    },
    {
      "cell_type": "markdown",
      "source": [
        "##Clase 1"
      ],
      "metadata": {
        "id": "iB_FcHgeeOwC"
      }
    },
    {
      "cell_type": "markdown",
      "source": [
        "###Clase 1.1: Suma\n",
        "\n",
        "*   Primer parte\n",
        "  *   Con la función sum\n",
        "\n"
      ],
      "metadata": {
        "id": "crJcIyY6eX53"
      }
    },
    {
      "cell_type": "code",
      "source": [
        "2+2"
      ],
      "metadata": {
        "colab": {
          "base_uri": "https://localhost:8080/"
        },
        "id": "3ch7ap8og3Eh",
        "outputId": "a3fde5b0-5b92-4215-ca09-42838d211b9d"
      },
      "execution_count": null,
      "outputs": [
        {
          "output_type": "execute_result",
          "data": {
            "text/plain": [
              "4"
            ]
          },
          "metadata": {},
          "execution_count": 10
        }
      ]
    },
    {
      "cell_type": "code",
      "source": [
        "2**3"
      ],
      "metadata": {
        "colab": {
          "base_uri": "https://localhost:8080/"
        },
        "id": "VBCosVZXg5Y2",
        "outputId": "fc1c3052-b224-421e-a5f5-87a8e19b70cc"
      },
      "execution_count": null,
      "outputs": [
        {
          "output_type": "execute_result",
          "data": {
            "text/plain": [
              "8"
            ]
          },
          "metadata": {},
          "execution_count": 11
        }
      ]
    },
    {
      "cell_type": "code",
      "source": [
        "x = 5"
      ],
      "metadata": {
        "id": "FjkSSocplfGY"
      },
      "execution_count": null,
      "outputs": []
    },
    {
      "cell_type": "markdown",
      "source": [
        "La inversa es:\n",
        "  $$y=\\frac{1}{x}$$\n",
        "\n"
      ],
      "metadata": {
        "id": "loElT879paZC"
      }
    },
    {
      "cell_type": "code",
      "source": [
        "y = 5/x\n",
        "y"
      ],
      "metadata": {
        "colab": {
          "base_uri": "https://localhost:8080/"
        },
        "id": "gAuA0swdpKZq",
        "outputId": "58f81092-2fa5-4356-90e9-ee710662e249"
      },
      "execution_count": null,
      "outputs": [
        {
          "output_type": "execute_result",
          "data": {
            "text/plain": [
              "1.0"
            ]
          },
          "metadata": {},
          "execution_count": 15
        }
      ]
    },
    {
      "cell_type": "code",
      "source": [
        "int(y)"
      ],
      "metadata": {
        "colab": {
          "base_uri": "https://localhost:8080/"
        },
        "id": "DppOENBbqO6p",
        "outputId": "df2c9160-b551-4cc0-a87a-633cedb0b6be"
      },
      "execution_count": null,
      "outputs": [
        {
          "output_type": "execute_result",
          "data": {
            "text/plain": [
              "1"
            ]
          },
          "metadata": {},
          "execution_count": 16
        }
      ]
    },
    {
      "cell_type": "markdown",
      "source": [
        "##Clase 2"
      ],
      "metadata": {
        "id": "fPuiU67Aea94"
      }
    },
    {
      "cell_type": "markdown",
      "source": [
        "###2.1. Cadena de Caracteres\n",
        "\n",
        "en principio, los caracteres pueden ir en comilla simple o doble"
      ],
      "metadata": {
        "id": "JGifgO9LALgI"
      }
    },
    {
      "cell_type": "code",
      "source": [
        "print (\"Esta es una cadena de caracteres\")\n",
        "\n",
        "print ('Esta tambien es una cadena de caracteres')"
      ],
      "metadata": {
        "id": "BEg2BltcdwBa",
        "colab": {
          "base_uri": "https://localhost:8080/"
        },
        "outputId": "a5a5dc1c-0c8a-4eb1-a4c5-81407f75396a"
      },
      "execution_count": 1,
      "outputs": [
        {
          "output_type": "stream",
          "name": "stdout",
          "text": [
            "Esta es una cadena de caracteres\n",
            "Esta tambien es una cadena de caracteres\n"
          ]
        }
      ]
    },
    {
      "cell_type": "markdown",
      "source": [
        "###2.2. Concatenación\n",
        "\n",
        "las cadenas de caracteres de python son inmutables y por lo tanto pueden concatenarse automaticamente"
      ],
      "metadata": {
        "id": "_sYqbUEEAg13"
      }
    },
    {
      "cell_type": "code",
      "source": [
        "\"python \" \"para \" \"Da\" \"ta \" \"Analysis\""
      ],
      "metadata": {
        "colab": {
          "base_uri": "https://localhost:8080/",
          "height": 35
        },
        "id": "gSBPXX6qAX8O",
        "outputId": "f24438b2-2bb1-405a-8f68-a54835cb35a4"
      },
      "execution_count": 2,
      "outputs": [
        {
          "output_type": "execute_result",
          "data": {
            "text/plain": [
              "'python para Data Analysis'"
            ],
            "application/vnd.google.colaboratory.intrinsic+json": {
              "type": "string"
            }
          },
          "metadata": {},
          "execution_count": 2
        }
      ]
    },
    {
      "cell_type": "markdown",
      "source": [
        "###2.3. Subindices"
      ],
      "metadata": {
        "id": "EeTauloGBHvL"
      }
    },
    {
      "cell_type": "code",
      "source": [
        "activo = \"Activo\"\n",
        "pasivo = \"Pasivo\"\n",
        "patrimonio = \"Patrimonio Neto\"\n",
        "\n",
        "print(patrimonio)"
      ],
      "metadata": {
        "colab": {
          "base_uri": "https://localhost:8080/"
        },
        "id": "qqCDHJadBCBG",
        "outputId": "6088ce7f-14a1-4b20-82f1-49e83d3cbe9b"
      },
      "execution_count": 4,
      "outputs": [
        {
          "output_type": "stream",
          "name": "stdout",
          "text": [
            "Patrimonio Neto\n"
          ]
        }
      ]
    },
    {
      "cell_type": "markdown",
      "source": [
        "Obtener un determinado caracter de una cadena de texto"
      ],
      "metadata": {
        "id": "-GlkD468Bf2T"
      }
    },
    {
      "cell_type": "code",
      "source": [
        "print(activo[0])\n",
        "\n",
        "print(activo[5])"
      ],
      "metadata": {
        "colab": {
          "base_uri": "https://localhost:8080/"
        },
        "id": "lz-sJLn7BSL7",
        "outputId": "1b5b2011-ff75-4b38-b2dd-bc8a34cb7043"
      },
      "execution_count": 8,
      "outputs": [
        {
          "output_type": "stream",
          "name": "stdout",
          "text": [
            "A\n",
            "o\n"
          ]
        }
      ]
    },
    {
      "cell_type": "markdown",
      "source": [
        "###2.4. Subcadenas\n",
        "\n",
        "obtener una subcadena de una variable string"
      ],
      "metadata": {
        "id": "4BndrEJ9B1Ta"
      }
    },
    {
      "cell_type": "code",
      "source": [
        "activo[0:3]"
      ],
      "metadata": {
        "colab": {
          "base_uri": "https://localhost:8080/",
          "height": 35
        },
        "id": "dJqCcBKfBq5j",
        "outputId": "a22478b9-0019-4dc2-8e47-ef649fb1cb29"
      },
      "execution_count": 10,
      "outputs": [
        {
          "output_type": "execute_result",
          "data": {
            "text/plain": [
              "'Act'"
            ],
            "application/vnd.google.colaboratory.intrinsic+json": {
              "type": "string"
            }
          },
          "metadata": {},
          "execution_count": 10
        }
      ]
    },
    {
      "cell_type": "code",
      "source": [
        "print(patrimonio[0] + patrimonio[11:15])"
      ],
      "metadata": {
        "colab": {
          "base_uri": "https://localhost:8080/"
        },
        "id": "xPevaaY0B8Tl",
        "outputId": "bfc83c95-f30b-4e0d-8b71-1e2cae132c66"
      },
      "execution_count": 13,
      "outputs": [
        {
          "output_type": "stream",
          "name": "stdout",
          "text": [
            "PNeto\n"
          ]
        }
      ]
    },
    {
      "cell_type": "markdown",
      "source": [
        "###2.5. Len\n",
        "\n",
        "esta función cuenta la cantidad de caracteres que posee un string"
      ],
      "metadata": {
        "id": "TfjQKy2gH3zy"
      }
    },
    {
      "cell_type": "code",
      "source": [
        "len(\"hola esto es una prueba\")"
      ],
      "metadata": {
        "colab": {
          "base_uri": "https://localhost:8080/"
        },
        "id": "XNx3c9MrEywf",
        "outputId": "9eaee468-a4fc-49b3-f092-39476b37a758"
      },
      "execution_count": 18,
      "outputs": [
        {
          "output_type": "execute_result",
          "data": {
            "text/plain": [
              "23"
            ]
          },
          "metadata": {},
          "execution_count": 18
        }
      ]
    },
    {
      "cell_type": "code",
      "source": [],
      "metadata": {
        "id": "ivzjO6BgISae"
      },
      "execution_count": null,
      "outputs": []
    }
  ]
}