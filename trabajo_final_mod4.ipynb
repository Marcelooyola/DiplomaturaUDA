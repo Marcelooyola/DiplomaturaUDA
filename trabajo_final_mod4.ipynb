{
  "nbformat": 4,
  "nbformat_minor": 0,
  "metadata": {
    "colab": {
      "provenance": [],
      "include_colab_link": true
    },
    "kernelspec": {
      "name": "python3",
      "display_name": "Python 3"
    }
  },
  "cells": [
    {
      "cell_type": "markdown",
      "metadata": {
        "id": "view-in-github",
        "colab_type": "text"
      },
      "source": [
        "<a href=\"https://colab.research.google.com/github/Marcelooyola/DiplomaturaUDA/blob/main/trabajo_final_mod4.ipynb\" target=\"_parent\"><img src=\"https://colab.research.google.com/assets/colab-badge.svg\" alt=\"Open In Colab\"/></a>"
      ]
    },
    {
      "cell_type": "markdown",
      "source": [
        "![logo](https://github.com/cristiandarioortegayubro/BA/blob/main/dba.png?raw=true)"
      ],
      "metadata": {
        "id": "qRJbnb0emd60"
      }
    },
    {
      "cell_type": "markdown",
      "metadata": {
        "id": "IEyDsUOkWQKr"
      },
      "source": [
        "# **Trabajo Final - Módulo 4 - Introducción a Python y Pandas**"
      ]
    },
    {
      "cell_type": "markdown",
      "source": [
        "![logo](https://www.python.org/static/community_logos/python-powered-w-100x40.png)"
      ],
      "metadata": {
        "id": "Ix6Fsu9Lm5zi"
      }
    },
    {
      "cell_type": "markdown",
      "metadata": {
        "id": "K95L1l2Oqtmo"
      },
      "source": [
        "**Nombre:** *Marcelo*\n",
        "\n",
        "**Apellido:** *Oyola*"
      ]
    },
    {
      "cell_type": "markdown",
      "metadata": {
        "id": "7Ke7Qen3ucdM"
      },
      "source": [
        "# **Aclaraciones previas**\n",
        "\n",
        "\n",
        "\n",
        "*   En cada celda se indica lo solicitado.\n",
        "*   Se pueden generar la cantidad de scripts necesarios.\n",
        "*   Puede explicar insertando celdas de texto.\n",
        "*   Para graficar se puede utilizar cualquier librería.\n",
        "*   Al finalizar, descargar el archivo y entregarlo por el campus.\n",
        "*   Al finalizar se debería borrar esta celda.\n",
        "\n"
      ]
    },
    {
      "cell_type": "markdown",
      "metadata": {
        "id": "Fdo1n4BKrYxk"
      },
      "source": [
        "# **Activar módulos necesarios**"
      ]
    },
    {
      "cell_type": "code",
      "metadata": {
        "id": "BPNcu6WursCJ"
      },
      "source": [
        "import pandas as pd\n",
        "import numpy as np\n",
        "import requests # necesario para hacer solicitudes a la API"
      ],
      "execution_count": 5,
      "outputs": []
    },
    {
      "cell_type": "markdown",
      "metadata": {
        "id": "T-zGSUPArm6b"
      },
      "source": [
        "# **Obtener datos**"
      ]
    },
    {
      "cell_type": "code",
      "metadata": {
        "id": "HS1ztE-prmP6",
        "colab": {
          "base_uri": "https://localhost:8080/"
        },
        "outputId": "f39833e5-0861-45bf-dfa7-0f0722a5e67f"
      },
      "source": [
        "APIKEYS = [\"7C5G34M2E03NDYL3\", \"P7TV6UJVGDYPDTUR\", \"TFHNYCWBD71JBSON\", \"3B3IE0VNJFZBBMRY\"] # mis credenciales de ingreso API\n",
        "\n",
        "BASE_URL = \"https://www.alphavantage.co/query\"\n",
        "\n",
        "API_KEY = \"7C5G34M2E03NDYL3\"\n",
        "\n",
        "INTERVAL = input(\"Coloca el numero del intervalo a seleccionar: \\n1. 15min \\n2. 30min \\n3. 60min \\n ---- \\n\")\n",
        "INTERVAL = intervalo(INTERVAL)\n",
        "\n",
        "STOCK_FN = \"TIME_SERIES_INTRADAY\"\n",
        "\n",
        "##calendario de empresas\n",
        "stock_symbol = {\"google\": \"GOOG\", \"microsoft\": \"MSFT\", \"amazon\": \"AMZN\"}"
      ],
      "execution_count": 78,
      "outputs": [
        {
          "output_type": "stream",
          "name": "stdout",
          "text": [
            "Coloca el numero del intervalo a seleccionar: \n",
            "1. 15min \n",
            "2. 30min \n",
            "3. 60min \n",
            " ---- \n",
            "3\n",
            " ---- \n",
            "\n",
            "EL intervalo de tiempo seleccionado es: 60min\n"
          ]
        }
      ]
    },
    {
      "cell_type": "code",
      "source": [
        "def intervalo(INTERVAL):\n",
        "  #INTERVAL = input(\"Coloca el numero del intervalo a seleccionar: \\n1. 15min \\n2. 30min \\n3. 60min \\n ---- \\n\")\n",
        "  print(\" ---- \\n\")\n",
        "  if (INTERVAL == \"1\"):\n",
        "    INTERVAL = \"15min\"\n",
        "  elif (INTERVAL == \"2\"):\n",
        "    INTERVAL = \"30min\"\n",
        "  elif (INTERVAL == \"3\"):\n",
        "    INTERVAL = \"60min\"\n",
        "  else :\n",
        "    INTERVAL = 0\n",
        "\n",
        "\n",
        "  if(INTERVAL == 0 ):\n",
        "    print(f\"El numero ingresado es incorrecto. Por favor intente nuevamente.\")\n",
        "  else:\n",
        "    print(f\"EL intervalo de tiempo seleccionado es: {INTERVAL}\")\n",
        "    return INTERVAL"
      ],
      "metadata": {
        "id": "KGbMmFXzZgix"
      },
      "execution_count": 69,
      "outputs": []
    },
    {
      "cell_type": "code",
      "source": [
        "\n",
        "def find_data(company):\n",
        "  end_point = (\n",
        "      f\"{BASE_URL}?function={STOCK_FN}&symbol={stock_symbol.get(company)}&interval={INTERVAL}&apikey={API_KEY}\"\n",
        "  )\n",
        "\n",
        "  print(f\"Obteniendo data desde {end_point}...\")\n",
        "  data = requests.get(end_point).json()\n",
        "  return data\n"
      ],
      "metadata": {
        "id": "_9eAKVBNRa9R"
      },
      "execution_count": 65,
      "outputs": []
    },
    {
      "cell_type": "code",
      "source": [
        "enterprice = input(\"Coloca el numero de la empresa a seleccionar: \\n1. Google \\n2. Microsoft \\n3.Amazon \\n ---- \\n\")\n",
        "print(\" ---- \\n\")\n",
        "if (enterprice == \"1\"):\n",
        "  enterprice = \"google\"\n",
        "elif (enterprice == \"2\"):\n",
        "  enterprice = \"microsoft\"\n",
        "elif (enterprice == \"3\"):\n",
        "  enterprice = \"amazon\"\n",
        "else :\n",
        "  enterprice = 0\n",
        "\n",
        "print(enterprice)\n",
        "\n",
        "if(enterprice == 0 ):\n",
        "  print(f\"El numero ingresado es incorrecto. Por favor intente nuevamente.\")\n",
        "else:\n",
        "  datosjson = find_data(enterprice)"
      ],
      "metadata": {
        "colab": {
          "base_uri": "https://localhost:8080/"
        },
        "id": "yTqIdLfKSpsX",
        "outputId": "e95910b4-1b82-46e7-ca73-cdca8dd0c437"
      },
      "execution_count": 79,
      "outputs": [
        {
          "output_type": "stream",
          "name": "stdout",
          "text": [
            "Coloca el numero de la empresa a seleccionar: \n",
            "1. Google \n",
            "2. Microsoft \n",
            "3.Amazon \n",
            " ---- \n",
            "3\n",
            " ---- \n",
            "\n",
            "amazon\n",
            "Obteniendo data desde https://www.alphavantage.co/query?function=TIME_SERIES_INTRADAY&symbol=AMZN&interval=60min&apikey=7C5G34M2E03NDYL3...\n"
          ]
        }
      ]
    },
    {
      "cell_type": "code",
      "source": [
        "datosjson.keys()"
      ],
      "metadata": {
        "colab": {
          "base_uri": "https://localhost:8080/"
        },
        "id": "j4o-Ap-nTEMG",
        "outputId": "57c8d829-d091-4b31-cb8f-3cca82ec2dd0"
      },
      "execution_count": 28,
      "outputs": [
        {
          "output_type": "execute_result",
          "data": {
            "text/plain": [
              "dict_keys(['Meta Data', 'Time Series (30min)'])"
            ]
          },
          "metadata": {},
          "execution_count": 28
        }
      ]
    },
    {
      "cell_type": "code",
      "source": [
        "datosjson.get(\"Meta Data\")"
      ],
      "metadata": {
        "colab": {
          "base_uri": "https://localhost:8080/"
        },
        "id": "UplOSXFYTSwW",
        "outputId": "ceec36ba-e002-4d71-d606-2c1900a633a8"
      },
      "execution_count": 80,
      "outputs": [
        {
          "output_type": "execute_result",
          "data": {
            "text/plain": [
              "{'1. Information': 'Intraday (60min) open, high, low, close prices and volume',\n",
              " '2. Symbol': 'AMZN',\n",
              " '3. Last Refreshed': '2023-08-11 19:00:00',\n",
              " '4. Interval': '60min',\n",
              " '5. Output Size': 'Compact',\n",
              " '6. Time Zone': 'US/Eastern'}"
            ]
          },
          "metadata": {},
          "execution_count": 80
        }
      ]
    },
    {
      "cell_type": "code",
      "source": [
        "datosjson.get(\"Time Series (30min)\")"
      ],
      "metadata": {
        "id": "kT3qgneTTIfm"
      },
      "execution_count": 81,
      "outputs": []
    },
    {
      "cell_type": "code",
      "source": [],
      "metadata": {
        "id": "kdy4wkJJTYFd"
      },
      "execution_count": null,
      "outputs": []
    },
    {
      "cell_type": "markdown",
      "metadata": {
        "id": "Zbkp_d8Br0aV"
      },
      "source": [
        "# **Crear un DataFrame**"
      ]
    },
    {
      "cell_type": "code",
      "metadata": {
        "id": "rz09nEehr6xa",
        "colab": {
          "base_uri": "https://localhost:8080/",
          "height": 386
        },
        "outputId": "b4bcb4d1-a368-49f9-f7aa-940a297916b0"
      },
      "source": [
        "pd.DataFrame(datosjson.get(f\"Time Series ({INTERVAL})\"))"
      ],
      "execution_count": 82,
      "outputs": [
        {
          "output_type": "execute_result",
          "data": {
            "text/plain": [
              "          2023-08-11 19:00:00 2023-08-11 18:00:00 2023-08-11 17:00:00  \\\n",
              "1. open              138.5000            138.5200            138.5600   \n",
              "2. high              138.5800            138.5800            140.3750   \n",
              "3. low               138.0000            138.4500            138.4500   \n",
              "4. close             138.2200            138.5500            138.4600   \n",
              "5. volume               61877               17954               60839   \n",
              "\n",
              "          2023-08-11 16:00:00 2023-08-11 15:00:00 2023-08-11 14:00:00  \\\n",
              "1. open              138.4600            138.6800            138.5500   \n",
              "2. high              138.5900            138.7300            138.8600   \n",
              "3. low               133.9960            138.0500            138.4850   \n",
              "4. close             138.5600            138.4500            138.6800   \n",
              "5. volume             7850226             6104189             3526161   \n",
              "\n",
              "          2023-08-11 13:00:00 2023-08-11 12:00:00 2023-08-11 11:00:00  \\\n",
              "1. open              138.3400            138.5750            138.3250   \n",
              "2. high              138.8100            138.8300            138.6200   \n",
              "3. low               138.1600            138.1300            137.8600   \n",
              "4. close             138.5400            138.3340            138.5800   \n",
              "5. volume             3730053             3918231             4603390   \n",
              "\n",
              "          2023-08-11 10:00:00  ... 2023-08-04 09:00:00 2023-08-04 08:00:00  \\\n",
              "1. open              137.1900  ...            141.2500            140.1950   \n",
              "2. high              139.3300  ...            142.0200            141.5900   \n",
              "3. low               137.1800  ...            139.7000            138.5000   \n",
              "4. close             138.3300  ...            140.5800            141.2700   \n",
              "5. volume             9139315  ...            39110412             3315388   \n",
              "\n",
              "          2023-08-04 07:00:00 2023-08-04 06:00:00 2023-08-04 05:00:00  \\\n",
              "1. open              140.2600            140.5000            139.8400   \n",
              "2. high              140.9000            140.7900            140.7000   \n",
              "3. low               139.5800            140.1000            139.6500   \n",
              "4. close             140.1800            140.2200            140.5000   \n",
              "5. volume             1169803              238929              159391   \n",
              "\n",
              "          2023-08-04 04:00:00 2023-08-03 19:00:00 2023-08-03 18:00:00  \\\n",
              "1. open              139.9100            141.1200            139.8700   \n",
              "2. high              140.7400            141.3400            142.9700   \n",
              "3. low               138.0000            140.0000            128.9100   \n",
              "4. close             139.8800            140.1700            141.1200   \n",
              "5. volume              574233             1091083             4063064   \n",
              "\n",
              "          2023-08-03 17:00:00 2023-08-03 16:00:00  \n",
              "1. open              138.0000            128.9100  \n",
              "2. high              140.0000            139.2000  \n",
              "3. low               133.3870            128.3800  \n",
              "4. close             139.8700            138.0000  \n",
              "5. volume             4299096            23508956  \n",
              "\n",
              "[5 rows x 100 columns]"
            ],
            "text/html": [
              "\n",
              "\n",
              "  <div id=\"df-30fcb68f-be45-4d2c-8257-076d03532634\">\n",
              "    <div class=\"colab-df-container\">\n",
              "      <div>\n",
              "<style scoped>\n",
              "    .dataframe tbody tr th:only-of-type {\n",
              "        vertical-align: middle;\n",
              "    }\n",
              "\n",
              "    .dataframe tbody tr th {\n",
              "        vertical-align: top;\n",
              "    }\n",
              "\n",
              "    .dataframe thead th {\n",
              "        text-align: right;\n",
              "    }\n",
              "</style>\n",
              "<table border=\"1\" class=\"dataframe\">\n",
              "  <thead>\n",
              "    <tr style=\"text-align: right;\">\n",
              "      <th></th>\n",
              "      <th>2023-08-11 19:00:00</th>\n",
              "      <th>2023-08-11 18:00:00</th>\n",
              "      <th>2023-08-11 17:00:00</th>\n",
              "      <th>2023-08-11 16:00:00</th>\n",
              "      <th>2023-08-11 15:00:00</th>\n",
              "      <th>2023-08-11 14:00:00</th>\n",
              "      <th>2023-08-11 13:00:00</th>\n",
              "      <th>2023-08-11 12:00:00</th>\n",
              "      <th>2023-08-11 11:00:00</th>\n",
              "      <th>2023-08-11 10:00:00</th>\n",
              "      <th>...</th>\n",
              "      <th>2023-08-04 09:00:00</th>\n",
              "      <th>2023-08-04 08:00:00</th>\n",
              "      <th>2023-08-04 07:00:00</th>\n",
              "      <th>2023-08-04 06:00:00</th>\n",
              "      <th>2023-08-04 05:00:00</th>\n",
              "      <th>2023-08-04 04:00:00</th>\n",
              "      <th>2023-08-03 19:00:00</th>\n",
              "      <th>2023-08-03 18:00:00</th>\n",
              "      <th>2023-08-03 17:00:00</th>\n",
              "      <th>2023-08-03 16:00:00</th>\n",
              "    </tr>\n",
              "  </thead>\n",
              "  <tbody>\n",
              "    <tr>\n",
              "      <th>1. open</th>\n",
              "      <td>138.5000</td>\n",
              "      <td>138.5200</td>\n",
              "      <td>138.5600</td>\n",
              "      <td>138.4600</td>\n",
              "      <td>138.6800</td>\n",
              "      <td>138.5500</td>\n",
              "      <td>138.3400</td>\n",
              "      <td>138.5750</td>\n",
              "      <td>138.3250</td>\n",
              "      <td>137.1900</td>\n",
              "      <td>...</td>\n",
              "      <td>141.2500</td>\n",
              "      <td>140.1950</td>\n",
              "      <td>140.2600</td>\n",
              "      <td>140.5000</td>\n",
              "      <td>139.8400</td>\n",
              "      <td>139.9100</td>\n",
              "      <td>141.1200</td>\n",
              "      <td>139.8700</td>\n",
              "      <td>138.0000</td>\n",
              "      <td>128.9100</td>\n",
              "    </tr>\n",
              "    <tr>\n",
              "      <th>2. high</th>\n",
              "      <td>138.5800</td>\n",
              "      <td>138.5800</td>\n",
              "      <td>140.3750</td>\n",
              "      <td>138.5900</td>\n",
              "      <td>138.7300</td>\n",
              "      <td>138.8600</td>\n",
              "      <td>138.8100</td>\n",
              "      <td>138.8300</td>\n",
              "      <td>138.6200</td>\n",
              "      <td>139.3300</td>\n",
              "      <td>...</td>\n",
              "      <td>142.0200</td>\n",
              "      <td>141.5900</td>\n",
              "      <td>140.9000</td>\n",
              "      <td>140.7900</td>\n",
              "      <td>140.7000</td>\n",
              "      <td>140.7400</td>\n",
              "      <td>141.3400</td>\n",
              "      <td>142.9700</td>\n",
              "      <td>140.0000</td>\n",
              "      <td>139.2000</td>\n",
              "    </tr>\n",
              "    <tr>\n",
              "      <th>3. low</th>\n",
              "      <td>138.0000</td>\n",
              "      <td>138.4500</td>\n",
              "      <td>138.4500</td>\n",
              "      <td>133.9960</td>\n",
              "      <td>138.0500</td>\n",
              "      <td>138.4850</td>\n",
              "      <td>138.1600</td>\n",
              "      <td>138.1300</td>\n",
              "      <td>137.8600</td>\n",
              "      <td>137.1800</td>\n",
              "      <td>...</td>\n",
              "      <td>139.7000</td>\n",
              "      <td>138.5000</td>\n",
              "      <td>139.5800</td>\n",
              "      <td>140.1000</td>\n",
              "      <td>139.6500</td>\n",
              "      <td>138.0000</td>\n",
              "      <td>140.0000</td>\n",
              "      <td>128.9100</td>\n",
              "      <td>133.3870</td>\n",
              "      <td>128.3800</td>\n",
              "    </tr>\n",
              "    <tr>\n",
              "      <th>4. close</th>\n",
              "      <td>138.2200</td>\n",
              "      <td>138.5500</td>\n",
              "      <td>138.4600</td>\n",
              "      <td>138.5600</td>\n",
              "      <td>138.4500</td>\n",
              "      <td>138.6800</td>\n",
              "      <td>138.5400</td>\n",
              "      <td>138.3340</td>\n",
              "      <td>138.5800</td>\n",
              "      <td>138.3300</td>\n",
              "      <td>...</td>\n",
              "      <td>140.5800</td>\n",
              "      <td>141.2700</td>\n",
              "      <td>140.1800</td>\n",
              "      <td>140.2200</td>\n",
              "      <td>140.5000</td>\n",
              "      <td>139.8800</td>\n",
              "      <td>140.1700</td>\n",
              "      <td>141.1200</td>\n",
              "      <td>139.8700</td>\n",
              "      <td>138.0000</td>\n",
              "    </tr>\n",
              "    <tr>\n",
              "      <th>5. volume</th>\n",
              "      <td>61877</td>\n",
              "      <td>17954</td>\n",
              "      <td>60839</td>\n",
              "      <td>7850226</td>\n",
              "      <td>6104189</td>\n",
              "      <td>3526161</td>\n",
              "      <td>3730053</td>\n",
              "      <td>3918231</td>\n",
              "      <td>4603390</td>\n",
              "      <td>9139315</td>\n",
              "      <td>...</td>\n",
              "      <td>39110412</td>\n",
              "      <td>3315388</td>\n",
              "      <td>1169803</td>\n",
              "      <td>238929</td>\n",
              "      <td>159391</td>\n",
              "      <td>574233</td>\n",
              "      <td>1091083</td>\n",
              "      <td>4063064</td>\n",
              "      <td>4299096</td>\n",
              "      <td>23508956</td>\n",
              "    </tr>\n",
              "  </tbody>\n",
              "</table>\n",
              "<p>5 rows × 100 columns</p>\n",
              "</div>\n",
              "      <button class=\"colab-df-convert\" onclick=\"convertToInteractive('df-30fcb68f-be45-4d2c-8257-076d03532634')\"\n",
              "              title=\"Convert this dataframe to an interactive table.\"\n",
              "              style=\"display:none;\">\n",
              "\n",
              "  <svg xmlns=\"http://www.w3.org/2000/svg\" height=\"24px\"viewBox=\"0 0 24 24\"\n",
              "       width=\"24px\">\n",
              "    <path d=\"M0 0h24v24H0V0z\" fill=\"none\"/>\n",
              "    <path d=\"M18.56 5.44l.94 2.06.94-2.06 2.06-.94-2.06-.94-.94-2.06-.94 2.06-2.06.94zm-11 1L8.5 8.5l.94-2.06 2.06-.94-2.06-.94L8.5 2.5l-.94 2.06-2.06.94zm10 10l.94 2.06.94-2.06 2.06-.94-2.06-.94-.94-2.06-.94 2.06-2.06.94z\"/><path d=\"M17.41 7.96l-1.37-1.37c-.4-.4-.92-.59-1.43-.59-.52 0-1.04.2-1.43.59L10.3 9.45l-7.72 7.72c-.78.78-.78 2.05 0 2.83L4 21.41c.39.39.9.59 1.41.59.51 0 1.02-.2 1.41-.59l7.78-7.78 2.81-2.81c.8-.78.8-2.07 0-2.86zM5.41 20L4 18.59l7.72-7.72 1.47 1.35L5.41 20z\"/>\n",
              "  </svg>\n",
              "      </button>\n",
              "\n",
              "\n",
              "\n",
              "    <div id=\"df-ce16443a-f648-4e7a-a37d-0194d908f31d\">\n",
              "      <button class=\"colab-df-quickchart\" onclick=\"quickchart('df-ce16443a-f648-4e7a-a37d-0194d908f31d')\"\n",
              "              title=\"Suggest charts.\"\n",
              "              style=\"display:none;\">\n",
              "\n",
              "<svg xmlns=\"http://www.w3.org/2000/svg\" height=\"24px\"viewBox=\"0 0 24 24\"\n",
              "     width=\"24px\">\n",
              "    <g>\n",
              "        <path d=\"M19 3H5c-1.1 0-2 .9-2 2v14c0 1.1.9 2 2 2h14c1.1 0 2-.9 2-2V5c0-1.1-.9-2-2-2zM9 17H7v-7h2v7zm4 0h-2V7h2v10zm4 0h-2v-4h2v4z\"/>\n",
              "    </g>\n",
              "</svg>\n",
              "      </button>\n",
              "    </div>\n",
              "\n",
              "<style>\n",
              "  .colab-df-quickchart {\n",
              "    background-color: #E8F0FE;\n",
              "    border: none;\n",
              "    border-radius: 50%;\n",
              "    cursor: pointer;\n",
              "    display: none;\n",
              "    fill: #1967D2;\n",
              "    height: 32px;\n",
              "    padding: 0 0 0 0;\n",
              "    width: 32px;\n",
              "  }\n",
              "\n",
              "  .colab-df-quickchart:hover {\n",
              "    background-color: #E2EBFA;\n",
              "    box-shadow: 0px 1px 2px rgba(60, 64, 67, 0.3), 0px 1px 3px 1px rgba(60, 64, 67, 0.15);\n",
              "    fill: #174EA6;\n",
              "  }\n",
              "\n",
              "  [theme=dark] .colab-df-quickchart {\n",
              "    background-color: #3B4455;\n",
              "    fill: #D2E3FC;\n",
              "  }\n",
              "\n",
              "  [theme=dark] .colab-df-quickchart:hover {\n",
              "    background-color: #434B5C;\n",
              "    box-shadow: 0px 1px 3px 1px rgba(0, 0, 0, 0.15);\n",
              "    filter: drop-shadow(0px 1px 2px rgba(0, 0, 0, 0.3));\n",
              "    fill: #FFFFFF;\n",
              "  }\n",
              "</style>\n",
              "\n",
              "    <script>\n",
              "      async function quickchart(key) {\n",
              "        const containerElement = document.querySelector('#' + key);\n",
              "        const charts = await google.colab.kernel.invokeFunction(\n",
              "            'suggestCharts', [key], {});\n",
              "      }\n",
              "    </script>\n",
              "\n",
              "      <script>\n",
              "\n",
              "function displayQuickchartButton(domScope) {\n",
              "  let quickchartButtonEl =\n",
              "    domScope.querySelector('#df-ce16443a-f648-4e7a-a37d-0194d908f31d button.colab-df-quickchart');\n",
              "  quickchartButtonEl.style.display =\n",
              "    google.colab.kernel.accessAllowed ? 'block' : 'none';\n",
              "}\n",
              "\n",
              "        displayQuickchartButton(document);\n",
              "      </script>\n",
              "      <style>\n",
              "    .colab-df-container {\n",
              "      display:flex;\n",
              "      flex-wrap:wrap;\n",
              "      gap: 12px;\n",
              "    }\n",
              "\n",
              "    .colab-df-convert {\n",
              "      background-color: #E8F0FE;\n",
              "      border: none;\n",
              "      border-radius: 50%;\n",
              "      cursor: pointer;\n",
              "      display: none;\n",
              "      fill: #1967D2;\n",
              "      height: 32px;\n",
              "      padding: 0 0 0 0;\n",
              "      width: 32px;\n",
              "    }\n",
              "\n",
              "    .colab-df-convert:hover {\n",
              "      background-color: #E2EBFA;\n",
              "      box-shadow: 0px 1px 2px rgba(60, 64, 67, 0.3), 0px 1px 3px 1px rgba(60, 64, 67, 0.15);\n",
              "      fill: #174EA6;\n",
              "    }\n",
              "\n",
              "    [theme=dark] .colab-df-convert {\n",
              "      background-color: #3B4455;\n",
              "      fill: #D2E3FC;\n",
              "    }\n",
              "\n",
              "    [theme=dark] .colab-df-convert:hover {\n",
              "      background-color: #434B5C;\n",
              "      box-shadow: 0px 1px 3px 1px rgba(0, 0, 0, 0.15);\n",
              "      filter: drop-shadow(0px 1px 2px rgba(0, 0, 0, 0.3));\n",
              "      fill: #FFFFFF;\n",
              "    }\n",
              "  </style>\n",
              "\n",
              "      <script>\n",
              "        const buttonEl =\n",
              "          document.querySelector('#df-30fcb68f-be45-4d2c-8257-076d03532634 button.colab-df-convert');\n",
              "        buttonEl.style.display =\n",
              "          google.colab.kernel.accessAllowed ? 'block' : 'none';\n",
              "\n",
              "        async function convertToInteractive(key) {\n",
              "          const element = document.querySelector('#df-30fcb68f-be45-4d2c-8257-076d03532634');\n",
              "          const dataTable =\n",
              "            await google.colab.kernel.invokeFunction('convertToInteractive',\n",
              "                                                     [key], {});\n",
              "          if (!dataTable) return;\n",
              "\n",
              "          const docLinkHtml = 'Like what you see? Visit the ' +\n",
              "            '<a target=\"_blank\" href=https://colab.research.google.com/notebooks/data_table.ipynb>data table notebook</a>'\n",
              "            + ' to learn more about interactive tables.';\n",
              "          element.innerHTML = '';\n",
              "          dataTable['output_type'] = 'display_data';\n",
              "          await google.colab.output.renderOutput(dataTable, element);\n",
              "          const docLink = document.createElement('div');\n",
              "          docLink.innerHTML = docLinkHtml;\n",
              "          element.appendChild(docLink);\n",
              "        }\n",
              "      </script>\n",
              "    </div>\n",
              "  </div>\n"
            ]
          },
          "metadata": {},
          "execution_count": 82
        }
      ]
    },
    {
      "cell_type": "code",
      "source": [
        "pd.DataFrame(datosjson.get(f\"Time Series ({INTERVAL})\")).T"
      ],
      "metadata": {
        "colab": {
          "base_uri": "https://localhost:8080/",
          "height": 423
        },
        "id": "sqwLjFC6VGsq",
        "outputId": "b666f6d4-af63-4aee-dc72-3a3488b22b98"
      },
      "execution_count": 83,
      "outputs": [
        {
          "output_type": "execute_result",
          "data": {
            "text/plain": [
              "                      1. open   2. high    3. low  4. close 5. volume\n",
              "2023-08-11 19:00:00  138.5000  138.5800  138.0000  138.2200     61877\n",
              "2023-08-11 18:00:00  138.5200  138.5800  138.4500  138.5500     17954\n",
              "2023-08-11 17:00:00  138.5600  140.3750  138.4500  138.4600     60839\n",
              "2023-08-11 16:00:00  138.4600  138.5900  133.9960  138.5600   7850226\n",
              "2023-08-11 15:00:00  138.6800  138.7300  138.0500  138.4500   6104189\n",
              "...                       ...       ...       ...       ...       ...\n",
              "2023-08-04 04:00:00  139.9100  140.7400  138.0000  139.8800    574233\n",
              "2023-08-03 19:00:00  141.1200  141.3400  140.0000  140.1700   1091083\n",
              "2023-08-03 18:00:00  139.8700  142.9700  128.9100  141.1200   4063064\n",
              "2023-08-03 17:00:00  138.0000  140.0000  133.3870  139.8700   4299096\n",
              "2023-08-03 16:00:00  128.9100  139.2000  128.3800  138.0000  23508956\n",
              "\n",
              "[100 rows x 5 columns]"
            ],
            "text/html": [
              "\n",
              "\n",
              "  <div id=\"df-fe775455-58fc-49d4-865d-9447f92516d2\">\n",
              "    <div class=\"colab-df-container\">\n",
              "      <div>\n",
              "<style scoped>\n",
              "    .dataframe tbody tr th:only-of-type {\n",
              "        vertical-align: middle;\n",
              "    }\n",
              "\n",
              "    .dataframe tbody tr th {\n",
              "        vertical-align: top;\n",
              "    }\n",
              "\n",
              "    .dataframe thead th {\n",
              "        text-align: right;\n",
              "    }\n",
              "</style>\n",
              "<table border=\"1\" class=\"dataframe\">\n",
              "  <thead>\n",
              "    <tr style=\"text-align: right;\">\n",
              "      <th></th>\n",
              "      <th>1. open</th>\n",
              "      <th>2. high</th>\n",
              "      <th>3. low</th>\n",
              "      <th>4. close</th>\n",
              "      <th>5. volume</th>\n",
              "    </tr>\n",
              "  </thead>\n",
              "  <tbody>\n",
              "    <tr>\n",
              "      <th>2023-08-11 19:00:00</th>\n",
              "      <td>138.5000</td>\n",
              "      <td>138.5800</td>\n",
              "      <td>138.0000</td>\n",
              "      <td>138.2200</td>\n",
              "      <td>61877</td>\n",
              "    </tr>\n",
              "    <tr>\n",
              "      <th>2023-08-11 18:00:00</th>\n",
              "      <td>138.5200</td>\n",
              "      <td>138.5800</td>\n",
              "      <td>138.4500</td>\n",
              "      <td>138.5500</td>\n",
              "      <td>17954</td>\n",
              "    </tr>\n",
              "    <tr>\n",
              "      <th>2023-08-11 17:00:00</th>\n",
              "      <td>138.5600</td>\n",
              "      <td>140.3750</td>\n",
              "      <td>138.4500</td>\n",
              "      <td>138.4600</td>\n",
              "      <td>60839</td>\n",
              "    </tr>\n",
              "    <tr>\n",
              "      <th>2023-08-11 16:00:00</th>\n",
              "      <td>138.4600</td>\n",
              "      <td>138.5900</td>\n",
              "      <td>133.9960</td>\n",
              "      <td>138.5600</td>\n",
              "      <td>7850226</td>\n",
              "    </tr>\n",
              "    <tr>\n",
              "      <th>2023-08-11 15:00:00</th>\n",
              "      <td>138.6800</td>\n",
              "      <td>138.7300</td>\n",
              "      <td>138.0500</td>\n",
              "      <td>138.4500</td>\n",
              "      <td>6104189</td>\n",
              "    </tr>\n",
              "    <tr>\n",
              "      <th>...</th>\n",
              "      <td>...</td>\n",
              "      <td>...</td>\n",
              "      <td>...</td>\n",
              "      <td>...</td>\n",
              "      <td>...</td>\n",
              "    </tr>\n",
              "    <tr>\n",
              "      <th>2023-08-04 04:00:00</th>\n",
              "      <td>139.9100</td>\n",
              "      <td>140.7400</td>\n",
              "      <td>138.0000</td>\n",
              "      <td>139.8800</td>\n",
              "      <td>574233</td>\n",
              "    </tr>\n",
              "    <tr>\n",
              "      <th>2023-08-03 19:00:00</th>\n",
              "      <td>141.1200</td>\n",
              "      <td>141.3400</td>\n",
              "      <td>140.0000</td>\n",
              "      <td>140.1700</td>\n",
              "      <td>1091083</td>\n",
              "    </tr>\n",
              "    <tr>\n",
              "      <th>2023-08-03 18:00:00</th>\n",
              "      <td>139.8700</td>\n",
              "      <td>142.9700</td>\n",
              "      <td>128.9100</td>\n",
              "      <td>141.1200</td>\n",
              "      <td>4063064</td>\n",
              "    </tr>\n",
              "    <tr>\n",
              "      <th>2023-08-03 17:00:00</th>\n",
              "      <td>138.0000</td>\n",
              "      <td>140.0000</td>\n",
              "      <td>133.3870</td>\n",
              "      <td>139.8700</td>\n",
              "      <td>4299096</td>\n",
              "    </tr>\n",
              "    <tr>\n",
              "      <th>2023-08-03 16:00:00</th>\n",
              "      <td>128.9100</td>\n",
              "      <td>139.2000</td>\n",
              "      <td>128.3800</td>\n",
              "      <td>138.0000</td>\n",
              "      <td>23508956</td>\n",
              "    </tr>\n",
              "  </tbody>\n",
              "</table>\n",
              "<p>100 rows × 5 columns</p>\n",
              "</div>\n",
              "      <button class=\"colab-df-convert\" onclick=\"convertToInteractive('df-fe775455-58fc-49d4-865d-9447f92516d2')\"\n",
              "              title=\"Convert this dataframe to an interactive table.\"\n",
              "              style=\"display:none;\">\n",
              "\n",
              "  <svg xmlns=\"http://www.w3.org/2000/svg\" height=\"24px\"viewBox=\"0 0 24 24\"\n",
              "       width=\"24px\">\n",
              "    <path d=\"M0 0h24v24H0V0z\" fill=\"none\"/>\n",
              "    <path d=\"M18.56 5.44l.94 2.06.94-2.06 2.06-.94-2.06-.94-.94-2.06-.94 2.06-2.06.94zm-11 1L8.5 8.5l.94-2.06 2.06-.94-2.06-.94L8.5 2.5l-.94 2.06-2.06.94zm10 10l.94 2.06.94-2.06 2.06-.94-2.06-.94-.94-2.06-.94 2.06-2.06.94z\"/><path d=\"M17.41 7.96l-1.37-1.37c-.4-.4-.92-.59-1.43-.59-.52 0-1.04.2-1.43.59L10.3 9.45l-7.72 7.72c-.78.78-.78 2.05 0 2.83L4 21.41c.39.39.9.59 1.41.59.51 0 1.02-.2 1.41-.59l7.78-7.78 2.81-2.81c.8-.78.8-2.07 0-2.86zM5.41 20L4 18.59l7.72-7.72 1.47 1.35L5.41 20z\"/>\n",
              "  </svg>\n",
              "      </button>\n",
              "\n",
              "\n",
              "\n",
              "    <div id=\"df-007a38fc-fe86-47a4-9725-d23e55dd7c32\">\n",
              "      <button class=\"colab-df-quickchart\" onclick=\"quickchart('df-007a38fc-fe86-47a4-9725-d23e55dd7c32')\"\n",
              "              title=\"Suggest charts.\"\n",
              "              style=\"display:none;\">\n",
              "\n",
              "<svg xmlns=\"http://www.w3.org/2000/svg\" height=\"24px\"viewBox=\"0 0 24 24\"\n",
              "     width=\"24px\">\n",
              "    <g>\n",
              "        <path d=\"M19 3H5c-1.1 0-2 .9-2 2v14c0 1.1.9 2 2 2h14c1.1 0 2-.9 2-2V5c0-1.1-.9-2-2-2zM9 17H7v-7h2v7zm4 0h-2V7h2v10zm4 0h-2v-4h2v4z\"/>\n",
              "    </g>\n",
              "</svg>\n",
              "      </button>\n",
              "    </div>\n",
              "\n",
              "<style>\n",
              "  .colab-df-quickchart {\n",
              "    background-color: #E8F0FE;\n",
              "    border: none;\n",
              "    border-radius: 50%;\n",
              "    cursor: pointer;\n",
              "    display: none;\n",
              "    fill: #1967D2;\n",
              "    height: 32px;\n",
              "    padding: 0 0 0 0;\n",
              "    width: 32px;\n",
              "  }\n",
              "\n",
              "  .colab-df-quickchart:hover {\n",
              "    background-color: #E2EBFA;\n",
              "    box-shadow: 0px 1px 2px rgba(60, 64, 67, 0.3), 0px 1px 3px 1px rgba(60, 64, 67, 0.15);\n",
              "    fill: #174EA6;\n",
              "  }\n",
              "\n",
              "  [theme=dark] .colab-df-quickchart {\n",
              "    background-color: #3B4455;\n",
              "    fill: #D2E3FC;\n",
              "  }\n",
              "\n",
              "  [theme=dark] .colab-df-quickchart:hover {\n",
              "    background-color: #434B5C;\n",
              "    box-shadow: 0px 1px 3px 1px rgba(0, 0, 0, 0.15);\n",
              "    filter: drop-shadow(0px 1px 2px rgba(0, 0, 0, 0.3));\n",
              "    fill: #FFFFFF;\n",
              "  }\n",
              "</style>\n",
              "\n",
              "    <script>\n",
              "      async function quickchart(key) {\n",
              "        const containerElement = document.querySelector('#' + key);\n",
              "        const charts = await google.colab.kernel.invokeFunction(\n",
              "            'suggestCharts', [key], {});\n",
              "      }\n",
              "    </script>\n",
              "\n",
              "      <script>\n",
              "\n",
              "function displayQuickchartButton(domScope) {\n",
              "  let quickchartButtonEl =\n",
              "    domScope.querySelector('#df-007a38fc-fe86-47a4-9725-d23e55dd7c32 button.colab-df-quickchart');\n",
              "  quickchartButtonEl.style.display =\n",
              "    google.colab.kernel.accessAllowed ? 'block' : 'none';\n",
              "}\n",
              "\n",
              "        displayQuickchartButton(document);\n",
              "      </script>\n",
              "      <style>\n",
              "    .colab-df-container {\n",
              "      display:flex;\n",
              "      flex-wrap:wrap;\n",
              "      gap: 12px;\n",
              "    }\n",
              "\n",
              "    .colab-df-convert {\n",
              "      background-color: #E8F0FE;\n",
              "      border: none;\n",
              "      border-radius: 50%;\n",
              "      cursor: pointer;\n",
              "      display: none;\n",
              "      fill: #1967D2;\n",
              "      height: 32px;\n",
              "      padding: 0 0 0 0;\n",
              "      width: 32px;\n",
              "    }\n",
              "\n",
              "    .colab-df-convert:hover {\n",
              "      background-color: #E2EBFA;\n",
              "      box-shadow: 0px 1px 2px rgba(60, 64, 67, 0.3), 0px 1px 3px 1px rgba(60, 64, 67, 0.15);\n",
              "      fill: #174EA6;\n",
              "    }\n",
              "\n",
              "    [theme=dark] .colab-df-convert {\n",
              "      background-color: #3B4455;\n",
              "      fill: #D2E3FC;\n",
              "    }\n",
              "\n",
              "    [theme=dark] .colab-df-convert:hover {\n",
              "      background-color: #434B5C;\n",
              "      box-shadow: 0px 1px 3px 1px rgba(0, 0, 0, 0.15);\n",
              "      filter: drop-shadow(0px 1px 2px rgba(0, 0, 0, 0.3));\n",
              "      fill: #FFFFFF;\n",
              "    }\n",
              "  </style>\n",
              "\n",
              "      <script>\n",
              "        const buttonEl =\n",
              "          document.querySelector('#df-fe775455-58fc-49d4-865d-9447f92516d2 button.colab-df-convert');\n",
              "        buttonEl.style.display =\n",
              "          google.colab.kernel.accessAllowed ? 'block' : 'none';\n",
              "\n",
              "        async function convertToInteractive(key) {\n",
              "          const element = document.querySelector('#df-fe775455-58fc-49d4-865d-9447f92516d2');\n",
              "          const dataTable =\n",
              "            await google.colab.kernel.invokeFunction('convertToInteractive',\n",
              "                                                     [key], {});\n",
              "          if (!dataTable) return;\n",
              "\n",
              "          const docLinkHtml = 'Like what you see? Visit the ' +\n",
              "            '<a target=\"_blank\" href=https://colab.research.google.com/notebooks/data_table.ipynb>data table notebook</a>'\n",
              "            + ' to learn more about interactive tables.';\n",
              "          element.innerHTML = '';\n",
              "          dataTable['output_type'] = 'display_data';\n",
              "          await google.colab.output.renderOutput(dataTable, element);\n",
              "          const docLink = document.createElement('div');\n",
              "          docLink.innerHTML = docLinkHtml;\n",
              "          element.appendChild(docLink);\n",
              "        }\n",
              "      </script>\n",
              "    </div>\n",
              "  </div>\n"
            ]
          },
          "metadata": {},
          "execution_count": 83
        }
      ]
    },
    {
      "cell_type": "code",
      "source": [
        "dfstocks = pd.DataFrame(datosjson.get(f\"Time Series ({INTERVAL})\")).T.rename(\n",
        "    columns={\n",
        "        \"index\" : \"fecha\",\n",
        "        \"1. open\": \"open\",\n",
        "        \"2. high\": \"high\",\n",
        "        \"3. low\": \"low\",\n",
        "        \"4. close\": \"close\",\n",
        "        \"5. volume\": \"volume\"\n",
        "    }\n",
        ")\n",
        "dfstocks"
      ],
      "metadata": {
        "colab": {
          "base_uri": "https://localhost:8080/",
          "height": 423
        },
        "id": "J_qHT3KvVRdB",
        "outputId": "b868e814-bed8-4770-80f6-9fc4606ca106"
      },
      "execution_count": 26,
      "outputs": [
        {
          "output_type": "execute_result",
          "data": {
            "text/plain": [
              "                         open      high       low     close volume\n",
              "2023-08-11 19:30:00  321.0100  321.0500  320.1100  320.7500   5254\n",
              "2023-08-11 19:00:00  321.0500  321.2500  321.0100  321.0100   2702\n",
              "2023-08-11 18:30:00  321.0500  321.1600  321.0100  321.1600   3837\n",
              "2023-08-11 18:00:00  321.0500  321.2500  321.0000  321.0500   1981\n",
              "2023-08-11 17:30:00  321.0500  321.0500  321.0000  321.0100   6331\n",
              "...                       ...       ...       ...       ...    ...\n",
              "2023-08-09 04:00:00  327.4000  327.5100  326.1300  327.4100   8786\n",
              "2023-08-08 19:30:00  325.9500  326.0400  325.6100  325.6600  12925\n",
              "2023-08-08 19:00:00  325.9600  326.0500  325.8700  325.8800   8068\n",
              "2023-08-08 18:30:00  326.0000  326.1000  325.8500  325.9600   3005\n",
              "2023-08-08 18:00:00  325.9000  326.1900  325.8200  326.0000   5520\n",
              "\n",
              "[100 rows x 5 columns]"
            ],
            "text/html": [
              "\n",
              "\n",
              "  <div id=\"df-e245a990-ce16-4a25-a879-b9fd6e561599\">\n",
              "    <div class=\"colab-df-container\">\n",
              "      <div>\n",
              "<style scoped>\n",
              "    .dataframe tbody tr th:only-of-type {\n",
              "        vertical-align: middle;\n",
              "    }\n",
              "\n",
              "    .dataframe tbody tr th {\n",
              "        vertical-align: top;\n",
              "    }\n",
              "\n",
              "    .dataframe thead th {\n",
              "        text-align: right;\n",
              "    }\n",
              "</style>\n",
              "<table border=\"1\" class=\"dataframe\">\n",
              "  <thead>\n",
              "    <tr style=\"text-align: right;\">\n",
              "      <th></th>\n",
              "      <th>open</th>\n",
              "      <th>high</th>\n",
              "      <th>low</th>\n",
              "      <th>close</th>\n",
              "      <th>volume</th>\n",
              "    </tr>\n",
              "  </thead>\n",
              "  <tbody>\n",
              "    <tr>\n",
              "      <th>2023-08-11 19:30:00</th>\n",
              "      <td>321.0100</td>\n",
              "      <td>321.0500</td>\n",
              "      <td>320.1100</td>\n",
              "      <td>320.7500</td>\n",
              "      <td>5254</td>\n",
              "    </tr>\n",
              "    <tr>\n",
              "      <th>2023-08-11 19:00:00</th>\n",
              "      <td>321.0500</td>\n",
              "      <td>321.2500</td>\n",
              "      <td>321.0100</td>\n",
              "      <td>321.0100</td>\n",
              "      <td>2702</td>\n",
              "    </tr>\n",
              "    <tr>\n",
              "      <th>2023-08-11 18:30:00</th>\n",
              "      <td>321.0500</td>\n",
              "      <td>321.1600</td>\n",
              "      <td>321.0100</td>\n",
              "      <td>321.1600</td>\n",
              "      <td>3837</td>\n",
              "    </tr>\n",
              "    <tr>\n",
              "      <th>2023-08-11 18:00:00</th>\n",
              "      <td>321.0500</td>\n",
              "      <td>321.2500</td>\n",
              "      <td>321.0000</td>\n",
              "      <td>321.0500</td>\n",
              "      <td>1981</td>\n",
              "    </tr>\n",
              "    <tr>\n",
              "      <th>2023-08-11 17:30:00</th>\n",
              "      <td>321.0500</td>\n",
              "      <td>321.0500</td>\n",
              "      <td>321.0000</td>\n",
              "      <td>321.0100</td>\n",
              "      <td>6331</td>\n",
              "    </tr>\n",
              "    <tr>\n",
              "      <th>...</th>\n",
              "      <td>...</td>\n",
              "      <td>...</td>\n",
              "      <td>...</td>\n",
              "      <td>...</td>\n",
              "      <td>...</td>\n",
              "    </tr>\n",
              "    <tr>\n",
              "      <th>2023-08-09 04:00:00</th>\n",
              "      <td>327.4000</td>\n",
              "      <td>327.5100</td>\n",
              "      <td>326.1300</td>\n",
              "      <td>327.4100</td>\n",
              "      <td>8786</td>\n",
              "    </tr>\n",
              "    <tr>\n",
              "      <th>2023-08-08 19:30:00</th>\n",
              "      <td>325.9500</td>\n",
              "      <td>326.0400</td>\n",
              "      <td>325.6100</td>\n",
              "      <td>325.6600</td>\n",
              "      <td>12925</td>\n",
              "    </tr>\n",
              "    <tr>\n",
              "      <th>2023-08-08 19:00:00</th>\n",
              "      <td>325.9600</td>\n",
              "      <td>326.0500</td>\n",
              "      <td>325.8700</td>\n",
              "      <td>325.8800</td>\n",
              "      <td>8068</td>\n",
              "    </tr>\n",
              "    <tr>\n",
              "      <th>2023-08-08 18:30:00</th>\n",
              "      <td>326.0000</td>\n",
              "      <td>326.1000</td>\n",
              "      <td>325.8500</td>\n",
              "      <td>325.9600</td>\n",
              "      <td>3005</td>\n",
              "    </tr>\n",
              "    <tr>\n",
              "      <th>2023-08-08 18:00:00</th>\n",
              "      <td>325.9000</td>\n",
              "      <td>326.1900</td>\n",
              "      <td>325.8200</td>\n",
              "      <td>326.0000</td>\n",
              "      <td>5520</td>\n",
              "    </tr>\n",
              "  </tbody>\n",
              "</table>\n",
              "<p>100 rows × 5 columns</p>\n",
              "</div>\n",
              "      <button class=\"colab-df-convert\" onclick=\"convertToInteractive('df-e245a990-ce16-4a25-a879-b9fd6e561599')\"\n",
              "              title=\"Convert this dataframe to an interactive table.\"\n",
              "              style=\"display:none;\">\n",
              "\n",
              "  <svg xmlns=\"http://www.w3.org/2000/svg\" height=\"24px\"viewBox=\"0 0 24 24\"\n",
              "       width=\"24px\">\n",
              "    <path d=\"M0 0h24v24H0V0z\" fill=\"none\"/>\n",
              "    <path d=\"M18.56 5.44l.94 2.06.94-2.06 2.06-.94-2.06-.94-.94-2.06-.94 2.06-2.06.94zm-11 1L8.5 8.5l.94-2.06 2.06-.94-2.06-.94L8.5 2.5l-.94 2.06-2.06.94zm10 10l.94 2.06.94-2.06 2.06-.94-2.06-.94-.94-2.06-.94 2.06-2.06.94z\"/><path d=\"M17.41 7.96l-1.37-1.37c-.4-.4-.92-.59-1.43-.59-.52 0-1.04.2-1.43.59L10.3 9.45l-7.72 7.72c-.78.78-.78 2.05 0 2.83L4 21.41c.39.39.9.59 1.41.59.51 0 1.02-.2 1.41-.59l7.78-7.78 2.81-2.81c.8-.78.8-2.07 0-2.86zM5.41 20L4 18.59l7.72-7.72 1.47 1.35L5.41 20z\"/>\n",
              "  </svg>\n",
              "      </button>\n",
              "\n",
              "\n",
              "\n",
              "    <div id=\"df-ac4b65de-8dac-497e-a97c-075d537839fd\">\n",
              "      <button class=\"colab-df-quickchart\" onclick=\"quickchart('df-ac4b65de-8dac-497e-a97c-075d537839fd')\"\n",
              "              title=\"Suggest charts.\"\n",
              "              style=\"display:none;\">\n",
              "\n",
              "<svg xmlns=\"http://www.w3.org/2000/svg\" height=\"24px\"viewBox=\"0 0 24 24\"\n",
              "     width=\"24px\">\n",
              "    <g>\n",
              "        <path d=\"M19 3H5c-1.1 0-2 .9-2 2v14c0 1.1.9 2 2 2h14c1.1 0 2-.9 2-2V5c0-1.1-.9-2-2-2zM9 17H7v-7h2v7zm4 0h-2V7h2v10zm4 0h-2v-4h2v4z\"/>\n",
              "    </g>\n",
              "</svg>\n",
              "      </button>\n",
              "    </div>\n",
              "\n",
              "<style>\n",
              "  .colab-df-quickchart {\n",
              "    background-color: #E8F0FE;\n",
              "    border: none;\n",
              "    border-radius: 50%;\n",
              "    cursor: pointer;\n",
              "    display: none;\n",
              "    fill: #1967D2;\n",
              "    height: 32px;\n",
              "    padding: 0 0 0 0;\n",
              "    width: 32px;\n",
              "  }\n",
              "\n",
              "  .colab-df-quickchart:hover {\n",
              "    background-color: #E2EBFA;\n",
              "    box-shadow: 0px 1px 2px rgba(60, 64, 67, 0.3), 0px 1px 3px 1px rgba(60, 64, 67, 0.15);\n",
              "    fill: #174EA6;\n",
              "  }\n",
              "\n",
              "  [theme=dark] .colab-df-quickchart {\n",
              "    background-color: #3B4455;\n",
              "    fill: #D2E3FC;\n",
              "  }\n",
              "\n",
              "  [theme=dark] .colab-df-quickchart:hover {\n",
              "    background-color: #434B5C;\n",
              "    box-shadow: 0px 1px 3px 1px rgba(0, 0, 0, 0.15);\n",
              "    filter: drop-shadow(0px 1px 2px rgba(0, 0, 0, 0.3));\n",
              "    fill: #FFFFFF;\n",
              "  }\n",
              "</style>\n",
              "\n",
              "    <script>\n",
              "      async function quickchart(key) {\n",
              "        const containerElement = document.querySelector('#' + key);\n",
              "        const charts = await google.colab.kernel.invokeFunction(\n",
              "            'suggestCharts', [key], {});\n",
              "      }\n",
              "    </script>\n",
              "\n",
              "      <script>\n",
              "\n",
              "function displayQuickchartButton(domScope) {\n",
              "  let quickchartButtonEl =\n",
              "    domScope.querySelector('#df-ac4b65de-8dac-497e-a97c-075d537839fd button.colab-df-quickchart');\n",
              "  quickchartButtonEl.style.display =\n",
              "    google.colab.kernel.accessAllowed ? 'block' : 'none';\n",
              "}\n",
              "\n",
              "        displayQuickchartButton(document);\n",
              "      </script>\n",
              "      <style>\n",
              "    .colab-df-container {\n",
              "      display:flex;\n",
              "      flex-wrap:wrap;\n",
              "      gap: 12px;\n",
              "    }\n",
              "\n",
              "    .colab-df-convert {\n",
              "      background-color: #E8F0FE;\n",
              "      border: none;\n",
              "      border-radius: 50%;\n",
              "      cursor: pointer;\n",
              "      display: none;\n",
              "      fill: #1967D2;\n",
              "      height: 32px;\n",
              "      padding: 0 0 0 0;\n",
              "      width: 32px;\n",
              "    }\n",
              "\n",
              "    .colab-df-convert:hover {\n",
              "      background-color: #E2EBFA;\n",
              "      box-shadow: 0px 1px 2px rgba(60, 64, 67, 0.3), 0px 1px 3px 1px rgba(60, 64, 67, 0.15);\n",
              "      fill: #174EA6;\n",
              "    }\n",
              "\n",
              "    [theme=dark] .colab-df-convert {\n",
              "      background-color: #3B4455;\n",
              "      fill: #D2E3FC;\n",
              "    }\n",
              "\n",
              "    [theme=dark] .colab-df-convert:hover {\n",
              "      background-color: #434B5C;\n",
              "      box-shadow: 0px 1px 3px 1px rgba(0, 0, 0, 0.15);\n",
              "      filter: drop-shadow(0px 1px 2px rgba(0, 0, 0, 0.3));\n",
              "      fill: #FFFFFF;\n",
              "    }\n",
              "  </style>\n",
              "\n",
              "      <script>\n",
              "        const buttonEl =\n",
              "          document.querySelector('#df-e245a990-ce16-4a25-a879-b9fd6e561599 button.colab-df-convert');\n",
              "        buttonEl.style.display =\n",
              "          google.colab.kernel.accessAllowed ? 'block' : 'none';\n",
              "\n",
              "        async function convertToInteractive(key) {\n",
              "          const element = document.querySelector('#df-e245a990-ce16-4a25-a879-b9fd6e561599');\n",
              "          const dataTable =\n",
              "            await google.colab.kernel.invokeFunction('convertToInteractive',\n",
              "                                                     [key], {});\n",
              "          if (!dataTable) return;\n",
              "\n",
              "          const docLinkHtml = 'Like what you see? Visit the ' +\n",
              "            '<a target=\"_blank\" href=https://colab.research.google.com/notebooks/data_table.ipynb>data table notebook</a>'\n",
              "            + ' to learn more about interactive tables.';\n",
              "          element.innerHTML = '';\n",
              "          dataTable['output_type'] = 'display_data';\n",
              "          await google.colab.output.renderOutput(dataTable, element);\n",
              "          const docLink = document.createElement('div');\n",
              "          docLink.innerHTML = docLinkHtml;\n",
              "          element.appendChild(docLink);\n",
              "        }\n",
              "      </script>\n",
              "    </div>\n",
              "  </div>\n"
            ]
          },
          "metadata": {},
          "execution_count": 26
        }
      ]
    },
    {
      "cell_type": "markdown",
      "metadata": {
        "id": "MrwCNmZar94-"
      },
      "source": [
        "## **Visualizaciones del DataFrame**"
      ]
    },
    {
      "cell_type": "code",
      "metadata": {
        "id": "5dRhvM7dsPj4"
      },
      "source": [],
      "execution_count": null,
      "outputs": []
    },
    {
      "cell_type": "markdown",
      "metadata": {
        "id": "UnTRvhhAsQOu"
      },
      "source": [
        "## **Información del DataFrame y de los datos**"
      ]
    },
    {
      "cell_type": "code",
      "metadata": {
        "id": "GXcyHqVtsbDg"
      },
      "source": [],
      "execution_count": null,
      "outputs": []
    },
    {
      "cell_type": "markdown",
      "metadata": {
        "id": "_Q0_Agehsrij"
      },
      "source": [
        "# **Trabajando con el DataFrame**"
      ]
    },
    {
      "cell_type": "markdown",
      "metadata": {
        "id": "XM6a2W_XsexJ"
      },
      "source": [
        "## **Eliminando datos no disponibles y duplicados**"
      ]
    },
    {
      "cell_type": "code",
      "metadata": {
        "id": "7d1CBcPMsv1n"
      },
      "source": [],
      "execution_count": null,
      "outputs": []
    },
    {
      "cell_type": "markdown",
      "metadata": {
        "id": "jSYM_pQ2swft"
      },
      "source": [
        "## **Insertando columnas**"
      ]
    },
    {
      "cell_type": "code",
      "metadata": {
        "id": "Pu4eeGUitGd3"
      },
      "source": [],
      "execution_count": null,
      "outputs": []
    },
    {
      "cell_type": "markdown",
      "metadata": {
        "id": "d9Ty00RYtHrj"
      },
      "source": [
        "## **Renombrando columnas**"
      ]
    },
    {
      "cell_type": "code",
      "metadata": {
        "id": "QyYvUCCotKe2"
      },
      "source": [],
      "execution_count": null,
      "outputs": []
    },
    {
      "cell_type": "markdown",
      "metadata": {
        "id": "onF4QVpmtL5m"
      },
      "source": [
        "## **Reindexando index**"
      ]
    },
    {
      "cell_type": "code",
      "metadata": {
        "id": "sc33ZML_tP7k"
      },
      "source": [],
      "execution_count": null,
      "outputs": []
    },
    {
      "cell_type": "markdown",
      "metadata": {
        "id": "-_uSz6M4toYa"
      },
      "source": [
        "# **Grabando**"
      ]
    },
    {
      "cell_type": "markdown",
      "metadata": {
        "id": "sc3-X6FPtrjP"
      },
      "source": [
        "## **Grabar el DataFrame como un archivo CSV**"
      ]
    },
    {
      "cell_type": "code",
      "metadata": {
        "id": "WB8rEPAot25y"
      },
      "source": [],
      "execution_count": null,
      "outputs": []
    },
    {
      "cell_type": "markdown",
      "metadata": {
        "id": "DzKTOPWut3Zx"
      },
      "source": [
        "# **Gráficos**"
      ]
    },
    {
      "cell_type": "markdown",
      "metadata": {
        "id": "5RAKnbAqt_hq"
      },
      "source": [
        "## **Desarrollar gráficos del DataFrame**"
      ]
    },
    {
      "cell_type": "code",
      "metadata": {
        "id": "qPGn43OeuN12"
      },
      "source": [],
      "execution_count": null,
      "outputs": []
    }
  ]
}